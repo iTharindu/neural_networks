{
 "cells": [
  {
   "cell_type": "code",
   "execution_count": 1,
   "metadata": {},
   "outputs": [],
   "source": [
    "import matplotlib.pyplot as plt\n",
    "import numpy as np\n",
    "\n",
    "import torch\n",
    "import torchvision\n",
    "import torchvision.transforms as transforms\n",
    "\n",
    "import torch.nn as nn\n",
    "import torch.nn.functional as F\n",
    "import torch.optim as optim"
   ]
  },
  {
   "cell_type": "code",
   "execution_count": 2,
   "metadata": {},
   "outputs": [
    {
     "name": "stderr",
     "output_type": "stream",
     "text": [
      "0it [00:00, ?it/s]"
     ]
    },
    {
     "name": "stdout",
     "output_type": "stream",
     "text": [
      "Downloading http://fashion-mnist.s3-website.eu-central-1.amazonaws.com/train-images-idx3-ubyte.gz to ./data/FashionMNIST/raw/train-images-idx3-ubyte.gz\n"
     ]
    },
    {
     "name": "stderr",
     "output_type": "stream",
     "text": [
      " 99%|█████████▉| 26255360/26421880 [01:58<00:00, 825674.57it/s]"
     ]
    },
    {
     "name": "stdout",
     "output_type": "stream",
     "text": [
      "Extracting ./data/FashionMNIST/raw/train-images-idx3-ubyte.gz\n"
     ]
    },
    {
     "name": "stderr",
     "output_type": "stream",
     "text": [
      "\n",
      "0it [00:00, ?it/s]\u001b[A"
     ]
    },
    {
     "name": "stdout",
     "output_type": "stream",
     "text": [
      "Downloading http://fashion-mnist.s3-website.eu-central-1.amazonaws.com/train-labels-idx1-ubyte.gz to ./data/FashionMNIST/raw/train-labels-idx1-ubyte.gz\n"
     ]
    },
    {
     "name": "stderr",
     "output_type": "stream",
     "text": [
      "\n",
      "  0%|          | 0/29515 [00:00<?, ?it/s]\u001b[A\n",
      " 56%|█████▌    | 16384/29515 [00:01<00:00, 104904.34it/s]\u001b[A\n",
      "\n",
      "0it [00:00, ?it/s]\u001b[A\u001b[A"
     ]
    },
    {
     "name": "stdout",
     "output_type": "stream",
     "text": [
      "Extracting ./data/FashionMNIST/raw/train-labels-idx1-ubyte.gz\n",
      "Downloading http://fashion-mnist.s3-website.eu-central-1.amazonaws.com/t10k-images-idx3-ubyte.gz to ./data/FashionMNIST/raw/t10k-images-idx3-ubyte.gz\n"
     ]
    },
    {
     "name": "stderr",
     "output_type": "stream",
     "text": [
      "\n",
      "\n",
      "  0%|          | 0/4422102 [00:00<?, ?it/s]\u001b[A\u001b[A\n",
      "\n",
      "  0%|          | 16384/4422102 [00:00<00:39, 112394.90it/s]\u001b[A\u001b[A\n",
      "\n",
      "  1%|          | 49152/4422102 [00:00<00:33, 131948.31it/s]\u001b[A\u001b[A\n",
      "\n",
      "  2%|▏         | 81920/4422102 [00:00<00:28, 151337.11it/s]\u001b[A\u001b[A\n",
      "\n",
      "  3%|▎         | 131072/4422102 [00:00<00:23, 181488.36it/s]\u001b[A\u001b[A\n",
      "\n",
      "  5%|▌         | 229376/4422102 [00:01<00:17, 233884.39it/s]\u001b[A\u001b[A\n",
      "\n",
      "  9%|▉         | 409600/4422102 [00:01<00:13, 297909.04it/s]\u001b[A\u001b[A\n",
      "\n",
      " 19%|█▉        | 843776/4422102 [00:01<00:08, 407597.86it/s]\u001b[A\u001b[A\n",
      "\n",
      " 22%|██▏       | 991232/4422102 [00:01<00:07, 449725.52it/s]\u001b[A\u001b[A\n",
      "\n",
      " 29%|██▊       | 1269760/4422102 [00:01<00:05, 600407.06it/s]\u001b[A\u001b[A\n",
      "\n",
      " 33%|███▎      | 1466368/4422102 [00:01<00:04, 725427.19it/s]\u001b[A\u001b[A\n",
      "\n",
      " 37%|███▋      | 1630208/4422102 [00:02<00:03, 866819.78it/s]\u001b[A\u001b[A\n",
      "\n",
      " 40%|████      | 1785856/4422102 [00:02<00:02, 973217.15it/s]\u001b[A\u001b[A\n",
      "\n",
      " 44%|████▍     | 1941504/4422102 [00:02<00:02, 1038964.55it/s]\u001b[A\u001b[A\n",
      "\n",
      " 47%|████▋     | 2088960/4422102 [00:02<00:02, 1133134.77it/s]\u001b[A\u001b[A\n",
      "\n",
      " 52%|█████▏    | 2285568/4422102 [00:02<00:01, 1213303.04it/s]\u001b[A\u001b[A\n",
      "\n",
      " 55%|█████▌    | 2433024/4422102 [00:02<00:01, 1215623.98it/s]\u001b[A\u001b[A\n",
      "\n",
      " 58%|█████▊    | 2572288/4422102 [00:02<00:01, 1075430.80it/s]\u001b[A\u001b[A\n",
      "\n",
      " 63%|██████▎   | 2777088/4422102 [00:03<00:01, 1086115.24it/s]\u001b[A\u001b[A\n",
      "\n",
      " 68%|██████▊   | 2998272/4422102 [00:03<00:01, 1075412.82it/s]\u001b[A\u001b[A\n",
      "\n",
      " 73%|███████▎  | 3227648/4422102 [00:05<00:03, 333332.14it/s] \u001b[A\u001b[A\n",
      "\n",
      " 75%|███████▌  | 3317760/4422102 [00:05<00:03, 333845.81it/s]\u001b[A\u001b[A\n",
      "\n",
      " 77%|███████▋  | 3424256/4422102 [00:05<00:02, 348126.77it/s]\u001b[A\u001b[A\n",
      "\n",
      " 79%|███████▉  | 3489792/4422102 [00:05<00:02, 339146.56it/s]\u001b[A\u001b[A\n",
      "\n",
      " 82%|████████▏ | 3645440/4422102 [00:05<00:01, 432356.00it/s]\u001b[A\u001b[A\n",
      "\n",
      " 88%|████████▊ | 3891200/4422102 [00:06<00:00, 574344.76it/s]\u001b[A\u001b[A\n",
      "\n",
      " 91%|█████████ | 4022272/4422102 [00:06<00:00, 546697.54it/s]\u001b[A\u001b[A\n",
      "\n",
      " 94%|█████████▎| 4145152/4422102 [00:06<00:00, 648224.78it/s]\u001b[A\u001b[A\n",
      "\n",
      " 96%|█████████▌| 4251648/4422102 [00:06<00:00, 679386.11it/s]\u001b[A\u001b[A\n",
      "\n",
      " 99%|█████████▉| 4390912/4422102 [00:06<00:00, 796030.22it/s]\u001b[A\u001b[A\n",
      "\n",
      "4423680it [00:06, 665835.41it/s]                             \u001b[A\u001b[A\n",
      "\n",
      "0it [00:00, ?it/s]\u001b[A\u001b[A"
     ]
    },
    {
     "name": "stdout",
     "output_type": "stream",
     "text": [
      "Extracting ./data/FashionMNIST/raw/t10k-images-idx3-ubyte.gz\n",
      "Downloading http://fashion-mnist.s3-website.eu-central-1.amazonaws.com/t10k-labels-idx1-ubyte.gz to ./data/FashionMNIST/raw/t10k-labels-idx1-ubyte.gz\n"
     ]
    },
    {
     "name": "stderr",
     "output_type": "stream",
     "text": [
      "\n",
      "\n",
      "  0%|          | 0/5148 [00:00<?, ?it/s]\u001b[A\u001b[A\n",
      "\n",
      "8192it [00:00, 17748.35it/s]            \u001b[A\u001b[A"
     ]
    },
    {
     "name": "stdout",
     "output_type": "stream",
     "text": [
      "Extracting ./data/FashionMNIST/raw/t10k-labels-idx1-ubyte.gz\n",
      "Processing...\n",
      "Done!\n"
     ]
    },
    {
     "name": "stderr",
     "output_type": "stream",
     "text": [
      "26427392it [02:10, 825674.57it/s]                              \n",
      "32768it [00:21, 104904.34it/s]                           \u001b[A"
     ]
    }
   ],
   "source": [
    "transform = transforms.Compose([\n",
    "    transforms.ToTensor(),\n",
    "    transforms.Normalize((0.5,),(0.5,))\n",
    "])\n",
    "\n",
    "trainset = torchvision.datasets.FashionMNIST('./data',\n",
    "                                            download = True,\n",
    "                                            train = True,\n",
    "                                            transform = transform)\n",
    "\n",
    "testset = torchvision.datasets.FashionMNIST('./data',\n",
    "                                            download = True,\n",
    "                                            train = False,\n",
    "                                            transform = transform)\n",
    "\n"
   ]
  },
  {
   "cell_type": "code",
   "execution_count": 18,
   "metadata": {},
   "outputs": [],
   "source": [
    "trainloader = torch.utils.data.DataLoader(trainset, batch_size=4,\n",
    "                                        shuffle=True, num_workers=2)\n",
    "\n",
    "\n",
    "testloader = torch.utils.data.DataLoader(testset, batch_size=4,\n",
    "                                        shuffle=False, num_workers=2)"
   ]
  },
  {
   "cell_type": "code",
   "execution_count": 4,
   "metadata": {},
   "outputs": [],
   "source": [
    "classes = ('T-shirt/top', 'Trouser','Pullover','Dress','Coat','Sandal',\n",
    "           'Shirt', 'Sneaker','Bag','Ankle Boot')\n",
    "\n",
    "def matplotlib_imshow(img, one_channel=False):\n",
    "    if one_channel:\n",
    "        img = img.mean(dim=0)\n",
    "    img = img / 2 + 0.5\n",
    "    npimg = img.numpy()\n",
    "    if one_channel:\n",
    "        plt.imshow(npimg, cmap = \"Greys\")\n",
    "    else :\n",
    "        plt.imshow(np.transpose(npimg,(1,2,0)))"
   ]
  },
  {
   "cell_type": "code",
   "execution_count": 5,
   "metadata": {},
   "outputs": [],
   "source": [
    "class Net(nn.Module):\n",
    "    def __init__(self):\n",
    "        super(Net, self).__init__()\n",
    "        self.conv1 = nn.Conv2d(1,6,5)\n",
    "        self.pool = nn.MaxPool2d(2,2)\n",
    "        self.conv2 = nn.Conv2d(6,16,5)\n",
    "        self.fc1 = nn.Linear(16 * 4 * 4 , 120)\n",
    "        self.fc2 = nn.Linear(120, 84)\n",
    "        self.fc3 = nn.Linear(84,10)\n",
    "    \n",
    "    def forward(self, x):\n",
    "        x = self.pool(F.relu(self.conv1(x)))\n",
    "        x = self.pool(F.relu(self.conv2(x)))\n",
    "        x = x.view(-1, 16 * 4 * 4)\n",
    "        x = F.relu(self.fc1(x))\n",
    "        x = F.relu(self.fc2(x))\n",
    "        x = self.fc3(x)\n",
    "        return x"
   ]
  },
  {
   "cell_type": "code",
   "execution_count": 6,
   "metadata": {},
   "outputs": [],
   "source": [
    "net = Net()"
   ]
  },
  {
   "cell_type": "code",
   "execution_count": 7,
   "metadata": {},
   "outputs": [
    {
     "name": "stdout",
     "output_type": "stream",
     "text": [
      "Net(\n",
      "  (conv1): Conv2d(1, 6, kernel_size=(5, 5), stride=(1, 1))\n",
      "  (pool): MaxPool2d(kernel_size=2, stride=2, padding=0, dilation=1, ceil_mode=False)\n",
      "  (conv2): Conv2d(6, 16, kernel_size=(5, 5), stride=(1, 1))\n",
      "  (fc1): Linear(in_features=256, out_features=120, bias=True)\n",
      "  (fc2): Linear(in_features=120, out_features=84, bias=True)\n",
      "  (fc3): Linear(in_features=84, out_features=10, bias=True)\n",
      ")\n"
     ]
    }
   ],
   "source": [
    "print(net)"
   ]
  },
  {
   "cell_type": "code",
   "execution_count": 9,
   "metadata": {},
   "outputs": [],
   "source": [
    "criterion = nn.CrossEntropyLoss()\n",
    "optimizer = optim.SGD(net.parameters(), lr=0.001, momentum=0.9)"
   ]
  },
  {
   "cell_type": "code",
   "execution_count": 12,
   "metadata": {},
   "outputs": [],
   "source": [
    "from torch.utils.tensorboard import SummaryWriter\n",
    "\n",
    "# default `log_dir` is \"runs\" - we'll be more specific here\n",
    "writer = SummaryWriter('runs/fashion_mnist_experiment_1')"
   ]
  },
  {
   "cell_type": "code",
   "execution_count": 19,
   "metadata": {},
   "outputs": [
    {
     "data": {
      "image/png": "[encoded data removed]",
      "text/plain": [
       "<Figure size 432x288 with 1 Axes>"
      ]
     },
     "metadata": {
      "needs_background": "light"
     },
     "output_type": "display_data"
    }
   ],
   "source": [
    "dataiter = iter(trainloader)\n",
    "images, labels = dataiter.next()\n",
    "\n",
    "img_grid = torchvision.utils.make_grid(images)\n",
    "\n",
    "matplotlib_imshow(img_grid, one_channel = True)\n",
    "\n",
    "writer.add_image('four_fashion_mnist_images', img_grid)"
   ]
  },
  {
   "cell_type": "code",
   "execution_count": 20,
   "metadata": {},
   "outputs": [
    {
     "ename": "SyntaxError",
     "evalue": "can't assign to operator (<ipython-input-20-8dfe2aebc706>, line 1)",
     "output_type": "error",
     "traceback": [
      "\u001b[0;36m  File \u001b[0;32m\"<ipython-input-20-8dfe2aebc706>\"\u001b[0;36m, line \u001b[0;32m1\u001b[0m\n\u001b[0;31m    tensorboard --logdir=runs\u001b[0m\n\u001b[0m                             ^\u001b[0m\n\u001b[0;31mSyntaxError\u001b[0m\u001b[0;31m:\u001b[0m can't assign to operator\n"
     ]
    }
   ],
   "source": [
    "tensorboard --logdir=runs"
   ]
  },
  {
   "cell_type": "code",
   "execution_count": null,
   "metadata": {},
   "outputs": [],
   "source": []
  }
 ],
 "metadata": {
  "kernelspec": {
   "display_name": "Python 3",
   "language": "python",
   "name": "python3"
  },
  "language_info": {
   "codemirror_mode": {
    "name": "ipython",
    "version": 3
   },
   "file_extension": ".py",
   "mimetype": "text/x-python",
   "name": "python",
   "nbconvert_exporter": "python",
   "pygments_lexer": "ipython3",
   "version": "3.7.3"
  }
 },
 "nbformat": 4,
 "nbformat_minor": 2
}
